{
  "nbformat": 4,
  "nbformat_minor": 0,
  "metadata": {
    "colab": {
      "provenance": []
    },
    "kernelspec": {
      "name": "python3",
      "display_name": "Python 3"
    },
    "language_info": {
      "name": "python"
    }
  },
  "cells": [
    {
      "cell_type": "code",
      "execution_count": 3,
      "metadata": {
        "colab": {
          "base_uri": "https://localhost:8080/"
        },
        "id": "wvbtt51GhEyN",
        "outputId": "3614ad6e-9ebc-4a6a-fe8a-673cdb06e17f"
      },
      "outputs": [
        {
          "output_type": "stream",
          "name": "stdout",
          "text": [
            "Contact Dalisu added successfully.\n",
            "Contact Samu added successfully.\n",
            "Name: Dalisu, Number: 0783631203, Email: dalisushange@gmail.com\n",
            "Name: Samu, Number: 0631174181, Email: samum@gmail.com\n",
            "Found contact: {'name': 'Dalisu', 'number': '0783631203', 'email': 'dalisushange@gmail.com'}\n",
            "Contact Dalisu updated successfully.\n",
            "Name: Dalisu, Number: 0672467288, Email: dalisushange@gmail.com\n",
            "Name: Samu, Number: 0631174181, Email: samum@gmail.com\n",
            "Contact Samu deleted successfully.\n",
            "Name: Dalisu, Number: 0672467288, Email: dalisushange@gmail.com\n"
          ]
        }
      ],
      "source": [
        "# Contact Book Application\n",
        "\n",
        "# Define a contact book as a list\n",
        "contact_book = []\n",
        "\n",
        "# Function to create a contact\n",
        "def create_contact(name, number, email):\n",
        "    return {\"name\": name, \"number\": number, \"email\": email}\n",
        "\n",
        "# Function to add a contact to the contact list\n",
        "def add_contact(contact):\n",
        "    contact_book.append(contact)\n",
        "    print(f\"Contact {contact['name']} added successfully.\")\n",
        "\n",
        "# Function to find a contact by name\n",
        "def find_contact(name):\n",
        "    for contact in contact_book:\n",
        "        if contact['name'] == name:\n",
        "            return contact\n",
        "    return None\n",
        "\n",
        "# Function to update a contact\n",
        "def update_contact(name, new_number=None, new_email=None):\n",
        "    contact = find_contact(name)\n",
        "    if contact:\n",
        "        if new_number:\n",
        "            contact['number'] = new_number\n",
        "        if new_email:\n",
        "            contact['email'] = new_email\n",
        "        print(f\"Contact {name} updated successfully.\")\n",
        "    else:\n",
        "        print(f\"Contact {name} not found.\")\n",
        "\n",
        "# Function to delete a contact\n",
        "def delete_contact(name):\n",
        "    global contact_book\n",
        "    contact_book = [contact for contact in contact_book if contact['name'] != name]\n",
        "    print(f\"Contact {name} deleted successfully.\")\n",
        "\n",
        "# Function to display all contacts\n",
        "def display_contacts():\n",
        "    if not contact_book:\n",
        "        print(\"Contact book is empty.\")\n",
        "    else:\n",
        "        for contact in contact_book:\n",
        "            print(f\"Name: {contact['name']}, Number: {contact['number']}, Email: {contact['email']}\")\n",
        "\n",
        "# Main program to demonstrate the Contact Book Application\n",
        "if __name__ == \"__main__\":\n",
        "    # Adding sample contacts\n",
        "    add_contact(create_contact(\"Dalisu\", \"0783631203\", \"dalisushange@gmail.com\"))\n",
        "    add_contact(create_contact(\"Samu\", \"0631174181\", \"samum@gmail.com\"))\n",
        "\n",
        "    # Display all contacts\n",
        "    display_contacts()\n",
        "\n",
        "    # Find a contact\n",
        "    contact = find_contact(\"Dalisu\")\n",
        "    if contact:\n",
        "        print(f\"Found contact: {contact}\")\n",
        "    else:\n",
        "        print(\"Contact not found.\")\n",
        "\n",
        "    # Update a contact\n",
        "    update_contact(\"Dalisu\", new_number=\"0672467288\")\n",
        "\n",
        "    # Display all contacts after update\n",
        "    display_contacts()\n",
        "\n",
        "    # Delete a contact\n",
        "    delete_contact(\"Samu\")\n",
        "\n",
        "    # Display all contacts after deletion\n",
        "    display_contacts()\n",
        "\n"
      ]
    }
  ]
}